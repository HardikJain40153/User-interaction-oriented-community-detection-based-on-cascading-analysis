{
 "cells": [
  {
   "cell_type": "code",
   "execution_count": 13,
   "id": "9de8a837",
   "metadata": {},
   "outputs": [
    {
     "name": "stdout",
     "output_type": "stream",
     "text": [
      "Approximate neighbours with Jaccard similarity > 0.5 ['m4', 'm2', 'm3']\n"
     ]
    }
   ],
   "source": [
    "from datasketch import MinHash, MinHashLSH\n",
    "\n",
    "set1 = set(['minhash', 'is', 'a', 'probabilistic', 'data', 'structure', 'for',\n",
    "            'estimating', 'the', 'similarity', 'between', 'datasets'])\n",
    "set2 = set(['minhash', 'is', 'a', 'probability', 'data', 'structure', 'for',\n",
    "            'estimating', 'the', 'similarity', 'between', 'documents'])\n",
    "set3 = set(['minhash', 'is', 'probability', 'data', 'structure', 'for',\n",
    "            'estimating', 'the', 'similarity', 'between', 'documents'])\n",
    "set4 = set(['minhash', 'structure', 'for',\n",
    "            'estimating'])\n",
    "\n",
    "m1 = MinHash(num_perm=128)\n",
    "m2 = MinHash(num_perm=128)\n",
    "m3 = MinHash(num_perm=128)\n",
    "m4 = MinHash(num_perm=128)\n",
    "for d in set1:\n",
    "    m1.update(d.encode('utf8'))\n",
    "for d in set2:\n",
    "    m2.update(d.encode('utf8'))\n",
    "for d in set3:\n",
    "    m3.update(d.encode('utf8'))\n",
    "for d in set3:\n",
    "    m4.update(d.encode('utf8'))\n",
    "\n",
    "# Create LSH index\n",
    "lsh = MinHashLSH(threshold=0.5, num_perm=128)\n",
    "lsh.insert(\"m2\", m2)\n",
    "lsh.insert(\"m3\", m3)\n",
    "lsh.insert(\"m4\", m4)\n",
    "result = lsh.query(m1)\n",
    "print(\"Approximate neighbours with Jaccard similarity > 0.5\", result)"
   ]
  },
  {
   "cell_type": "code",
   "execution_count": 3,
   "id": "4f0978d6",
   "metadata": {},
   "outputs": [
    {
     "data": {
      "text/plain": [
       "[[-9196659180665976862,\n",
       "  -9212472561149458072,\n",
       "  -9218162448895604912,\n",
       "  -9116776989229262251,\n",
       "  -9128271694189479742],\n",
       " [-9196659180665976862,\n",
       "  -9212472561149458072,\n",
       "  -9218162448895604912,\n",
       "  -9116776989229262251,\n",
       "  -9128271694189479742],\n",
       " [-9196659180665976862,\n",
       "  -9212472561149458072,\n",
       "  -9218162448895604912,\n",
       "  -9116776989229262251,\n",
       "  -9128271694189479742],\n",
       " [-9196659180665976862,\n",
       "  -9212472561149458072,\n",
       "  -9218162448895604912,\n",
       "  -9116776989229262251,\n",
       "  -9128271694189479742],\n",
       " [-9131595725635065973,\n",
       "  -9204848613734276115,\n",
       "  -9185380525475514089,\n",
       "  -9178169027891735096,\n",
       "  -9160151122438750111]]"
      ]
     },
     "execution_count": 3,
     "metadata": {},
     "output_type": "execute_result"
    }
   ],
   "source": [
    "import os\n",
    "import numpy as np\n",
    "import string\n",
    "\n",
    "# Generate sample texts\n",
    "t1 = 'Financial Analyst Job Responsibilities:Analyzes financial status by collecting, monitoring, ' +\\\n",
    "'and studying data; recommending actions. Financial Analyst Job Duties: Determines cost of operations ' +\\\n",
    "'by establishing standard costs; collecting operational data. Identifies financial status by comparing ' +\\\n",
    "'and analyzing actual results with plans and forecasts. Guides cost analysis process by establishing ' +\\\n",
    "'and enforcing policies and procedures; providing trends and forecasts; explaining processes and ' +\\\n",
    "'techniques; recommending actions. Improves financial status by analyzing results; monitoring variances; ' +\\\n",
    "'identifying trends; recommending actions to management. Reconciles transactions by comparing and correcting data.'\n",
    "t2 = t1\n",
    "t3 = 'Analyst Job Responsibilities. Analyzes financial status by collecting monitoring ' +\\\n",
    "'and studying data; recommending actions. Financial Analyst Job Duties: Determines cost of operations ' +\\\n",
    "'by establishing standard costs collecting operational data. Identifies financial status by comparing ' +\\\n",
    "'and analyzing actual results with plans and forecasts. Guides cost analysis process by establishing ' +\\\n",
    "'and enforcing policies and procedures; providing trends and forecasts; explaining processes and ' +\\\n",
    "'techniques; recommending actions. Improves financial status by analyzing results; monitoring variances; ' +\\\n",
    "'identifying trends; recommending actions to management. Reconciles transactions by comparing and correcting data.'\n",
    "t4 = 'Financial Analyst Job Responsibilities:Analyzes financial status by collecting, monitoring, ' +\\\n",
    "'and studying data; recommending actions. Financial Analyst Job Duties: Determines cost of operations ' +\\\n",
    "'by establishing standard costs; collecting data. Identifies financial status by comparing ' +\\\n",
    "'and analyzing actual results with plans and forecasts. Guides cost analysis process by establishing ' +\\\n",
    "'and enforcing policies and procedures; providing trends and forecasts; explaining processes and ' +\\\n",
    "'techniques; recommending actions. Improves financial status by analyzing results; monitoring variances; ' +\\\n",
    "'identifying trends; recommending actions to management. Reconciles transactions by comparing and correcting data.' +\\\n",
    "'Analyzes financial status by collecting, monitoring, ' +\\\n",
    "'and studying data; recommending actions. Financial Analyst Job Duties: Determines cost of operations ' +\\\n",
    "'by establishing standard costs; collecting operational data. Identifies financial status by comparing '\n",
    "t5 = 'Firefighter Job Responsibilities: Protects citizens by extinguishing fires; executing rescues. ' +\\\n",
    "'Firefighter Job Duties: Prevents fire damage by conducting surveys and inspections for hazards; enforcing codes. ' +\\\n",
    "'Prepares citizens to prevent fire damage by developing and conducting educational and training programs. ' +\\\n",
    "'Ensures availability of water at fire scene by testing hydrants; requesting and expediting repairs; verifying repair. ' +\\\n",
    "'Minimizes fire damage by responding to alarms; driving and operating equipment; regulating water pressure; ' +\\\n",
    "'Ensures operation of equipment by completing preventive maintenance requirements; following manufacturers ' +\\\n",
    "'Maintains operations by following policies and procedures; reporting needed changes. '\n",
    "\n",
    "texts = [t1, t2, t3, t4, t5]\n",
    "\n",
    "# Define Shingling function\n",
    "def shingle(s, l):\n",
    "    #Generate k-tuple shingles of a string\n",
    "    l = min(len(s), l)\n",
    "    return([s[i:i+l] for i in range(len(s) - l + 1)])\n",
    "    \n",
    "# Declare punctuation\n",
    "exclude = set(string.punctuation)\n",
    "\n",
    "# Generate hash functions\n",
    "def hash_functions():\n",
    "    def hash_factory(ni):\n",
    "        return(lambda x: hash(\"salt\" + str(ni) + str(x) + \"salt\"))\n",
    "    return [hash_factory(i) for i in range(5)]\n",
    "\n",
    "# Create list of shingle lists and Normalize text\n",
    "shingle_list = [shingle(''.join(ch for ch in d.lower().replace(' ','') if ch not in exclude),4) for d in texts]\n",
    "\n",
    "# Generate LSH matrix\n",
    "[[min(fn(t) for t in tuples) for i, fn in enumerate(hash_functions())] for tuples in shingle_list]"
   ]
  },
  {
   "cell_type": "code",
   "execution_count": null,
   "id": "521e8394",
   "metadata": {},
   "outputs": [],
   "source": []
  }
 ],
 "metadata": {
  "kernelspec": {
   "display_name": "Python 3 (ipykernel)",
   "language": "python",
   "name": "python3"
  },
  "language_info": {
   "codemirror_mode": {
    "name": "ipython",
    "version": 3
   },
   "file_extension": ".py",
   "mimetype": "text/x-python",
   "name": "python",
   "nbconvert_exporter": "python",
   "pygments_lexer": "ipython3",
   "version": "3.10.4"
  }
 },
 "nbformat": 4,
 "nbformat_minor": 5
}
